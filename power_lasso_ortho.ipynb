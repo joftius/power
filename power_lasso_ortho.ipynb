{
 "metadata": {
  "name": ""
 },
 "nbformat": 3,
 "nbformat_minor": 0,
 "worksheets": [
  {
   "cells": [
    {
     "cell_type": "code",
     "collapsed": false,
     "input": [
      "import numpy as np\n",
      "from scipy.stats import norm"
     ],
     "language": "python",
     "metadata": {},
     "outputs": [],
     "prompt_number": 1
    },
    {
     "cell_type": "markdown",
     "metadata": {},
     "source": [
      "Assume $\\mu_1 = rx$ and all other $\\mu_i = 0$. In the orthonormal case we will have $\\lambda_2 \\approx \\sqrt{2\\log(p)}$\n",
      "\n",
      "Using the usual normal tail bounds, $\\Phi(xr)/\\Phi(x) \\leq \\frac{\\phi(rx)/rx}{(1-1/x^2)\\phi(x)/x}$\n",
      "\n",
      "Letting $x = \\sqrt{2log(p)}$ and doing some simplification gives an upper bound\n",
      "$$\n",
      "\\frac{p^{1-r^2}}{r\\left(1-\\frac{1}{2\\log(p)}\\right)}\n",
      "$$"
     ]
    },
    {
     "cell_type": "code",
     "collapsed": false,
     "input": [
      "p = np.array([50., 100., 500., 1000., 5000., 10000., 100000.])\n",
      "alpha = 0.05\n",
      "r = 1.27\n",
      "p**(1-r**2)/(r*(1-1/(2*np.log(p)))) < alpha"
     ],
     "language": "python",
     "metadata": {},
     "outputs": [
      {
       "metadata": {},
       "output_type": "pyout",
       "prompt_number": 2,
       "text": [
        "array([False, False,  True,  True,  True,  True,  True], dtype=bool)"
       ]
      }
     ],
     "prompt_number": 2
    },
    {
     "cell_type": "raw",
     "metadata": {},
     "source": [
      "We could also just evaluate the cdf numerically, giving a different answer for p=100 below"
     ]
    },
    {
     "cell_type": "code",
     "collapsed": false,
     "input": [
      "r = 1.27\n",
      "m = np.sqrt(2*np.log(p))\n",
      "(1-norm.cdf(r*m))/(1-norm.cdf(m)) < .05"
     ],
     "language": "python",
     "metadata": {},
     "outputs": [
      {
       "metadata": {},
       "output_type": "pyout",
       "prompt_number": 3,
       "text": [
        "array([False,  True,  True,  True,  True,  True,  True], dtype=bool)"
       ]
      }
     ],
     "prompt_number": 3
    }
   ],
   "metadata": {}
  }
 ]
}